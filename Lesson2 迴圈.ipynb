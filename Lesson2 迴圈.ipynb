{
 "cells": [
  {
   "cell_type": "markdown",
   "metadata": {},
   "source": [
    "# Before Lesson2 #\n",
    "## Zen of python ##\n",
    "\n",
    "在python當中，有個小彩蛋，試著執行下面的cell\n",
    "\n",
    "\n",
    "\n"
   ]
  },
  {
   "cell_type": "code",
   "execution_count": null,
   "metadata": {},
   "outputs": [],
   "source": [
    "import this"
   ]
  },
  {
   "cell_type": "markdown",
   "metadata": {},
   "source": [
    "# Lesson2 迴圈、資料結構\n",
    "---\n",
    "目錄\n",
    "* [2.1 迴圈](#2.1-迴圈)\n",
    "  * [2.1.1 for 迴圈](#2.1.1-for-迴圈)\n",
    "  * [2.1.2 while 迴圈](#2.1.2-while-迴圈)\n",
    "  * [2.1.3 range](#2.1.3-range)\n",
    "* [2.2 資料結構](#2.2-資料結構)\n",
    "  * [2.2.1 list串列](#2.2.1-list串列)\n",
    "  * [2.2.2 tuple 元組](#2.2.2-tuple元組)\n",
    "  * [2.2.3 set 集合](#2.2.3-set集合)\n",
    "  * [2.2.4 dict 字典](#2.2.4-dict字典)"
   ]
  },
  {
   "cell_type": "markdown",
   "metadata": {},
   "source": [
    "<h2 id=\"2.1\"> 迴圈 </h2>\n",
    "當我們需要做連續的事時，我們就需要用到迴圈"
   ]
  },
  {
   "cell_type": "markdown",
   "metadata": {},
   "source": [
    "<h2 id=\"2.1.1\">2.1.1 for 迴圈</h2>\n",
    "for的結構如下\n",
    "```\n",
    "for 東西 in 東西們:\n",
    "    程式碼\n",
    "```\n",
    "執行看看下面的cell!!!"
   ]
  },
  {
   "cell_type": "code",
   "execution_count": null,
   "metadata": {},
   "outputs": [],
   "source": [
    "import time\n",
    "lst = [1,2,3,4,5,6,7,8,9,10]\n",
    "###Demo###\n",
    "for i in lst:\n",
    "    print(i)\n",
    "    time.sleep(1)\n",
    "###Demo###"
   ]
  },
  {
   "cell_type": "markdown",
   "metadata": {},
   "source": [
    "* break \n",
    "\n",
    "如果希望迴圈在某個條件下停止，可以使用`break`，他可以跳出迴圈\n",
    "\n",
    "執行看看下面的cell!!!"
   ]
  },
  {
   "cell_type": "code",
   "execution_count": null,
   "metadata": {},
   "outputs": [],
   "source": [
    "###Demo###\n",
    "for idx in lst:\n",
    "    if idx==7:\n",
    "        print(\"看到7我就不印了\")\n",
    "        break\n",
    "    print(idx)\n",
    "    time.sleep(1)\n",
    "###Demo###    "
   ]
  },
  {
   "cell_type": "markdown",
   "metadata": {},
   "source": [
    "* continue\n",
    "\n",
    "當我們遇到某種情況時，想跳過，但是卻不想跳出迴圈，可以使用`continue`，他可以跳過這次的迭代\n",
    "\n",
    "執行看看下面的cell!"
   ]
  },
  {
   "cell_type": "code",
   "execution_count": null,
   "metadata": {},
   "outputs": [],
   "source": [
    "###Demo###\n",
    "for index in lst:\n",
    "    if index==8:\n",
    "        print(\"我不想印8\")\n",
    "        continue\n",
    "    print(index)\n",
    "    time.sleep(1)\n",
    "###Demo###"
   ]
  },
  {
   "cell_type": "markdown",
   "metadata": {},
   "source": [
    "### 練習1\n",
    "---\n",
    "\n",
    "將字串`practice = Hello World`逐字印出來，除了空白的部分 Hint:split() join()"
   ]
  },
  {
   "cell_type": "code",
   "execution_count": null,
   "metadata": {},
   "outputs": [],
   "source": [
    "practice = \"Hello World\"\n",
    "###Start_code###\n"
   ]
  },
  {
   "cell_type": "markdown",
   "metadata": {},
   "source": [
    "## Expect Output\n",
    "---\n",
    "\n",
    "```\n",
    "H\n",
    "e\n",
    "l\n",
    "l\n",
    "o\n",
    "W\n",
    "o\n",
    "r\n",
    "l\n",
    "d\n",
    "```"
   ]
  },
  {
   "cell_type": "markdown",
   "metadata": {},
   "source": [
    "<h2 id=\"2.1.2\">2.1.2-while-迴圈</h2>\n",
    "while的結構如下:\n",
    "\n",
    "```\n",
    "while 對的陳述:\n",
    "    程式碼\n",
    "```\n",
    "\n",
    "執行看看下面的cell!!! Hint:按上面的中止就可以將程式停下來喔，一個正方形的按鈕"
   ]
  },
  {
   "cell_type": "code",
   "execution_count": null,
   "metadata": {},
   "outputs": [],
   "source": [
    "a = True\n",
    "while a:\n",
    "    print(\"因為a是對的，所以進入while迴圈\")\n",
    "    time.sleep(1)"
   ]
  },
  {
   "cell_type": "markdown",
   "metadata": {},
   "source": [
    "然而，剛剛那樣的話會變成無限迴圈，因此如果我們想跳出迴圈的話，可以用`break`\n",
    "\n",
    "假設我希望只印3句\n",
    "\n",
    "執行看看下面的cell!!!"
   ]
  },
  {
   "cell_type": "code",
   "execution_count": null,
   "metadata": {},
   "outputs": [],
   "source": [
    "count = 1\n",
    "while a:\n",
    "    if count==4:\n",
    "        break\n",
    "    print(str(count) + \".因為a是對的，所以進入while迴圈\")\n",
    "    time.sleep(1)\n",
    "    count+=1"
   ]
  },
  {
   "cell_type": "markdown",
   "metadata": {},
   "source": [
    "如果因為某些原因，不想跳出迴圈，只想跳過本次迭代，那就使用`continue`\n",
    "\n",
    "執行看看下面的cell!!!"
   ]
  },
  {
   "cell_type": "code",
   "execution_count": null,
   "metadata": {},
   "outputs": [],
   "source": [
    "print(\"我只想印偶數\")\n",
    "c = 1\n",
    "while c<=10:\n",
    "    if c%2 ==0:\n",
    "        print(c)\n",
    "        time.sleep(1)\n",
    "    c+=1\n",
    "print(\"印完了\")"
   ]
  },
  {
   "cell_type": "markdown",
   "metadata": {},
   "source": [
    "## 練習2\n",
    "---\n"
   ]
  },
  {
   "cell_type": "markdown",
   "metadata": {},
   "source": [
    "<h2>2.1.3 range</h2>\n"
   ]
  },
  {
   "cell_type": "markdown",
   "metadata": {},
   "source": [
    "range() 可以用來生成數字，用法很像切片slice\n",
    "\n",
    "結構\n",
    "\n",
    "```\n",
    "range(開始值,結束值,間隔值)\n",
    "```\n",
    "\n",
    "執行看看下面的cell!!!"
   ]
  },
  {
   "cell_type": "code",
   "execution_count": null,
   "metadata": {},
   "outputs": [],
   "source": [
    "for i in range(10):\n",
    "    print(i)"
   ]
  },
  {
   "cell_type": "markdown",
   "metadata": {},
   "source": [
    "# Assignment2\n",
    "\n",
    "繳交.py檔至slack\n",
    "\n",
    "---\n",
    "參考http://www.shute.kh.edu.tw/~92d314/email/A24.htm\n",
    "\n",
    "寫出一個可以判斷閏年的程式,按q或Q可以退出程式\n",
    "\n",
    "ex input:\n",
    "\n",
    "2018\n",
    "1900\n",
    "1999\n",
    "2000\n",
    "2004\n",
    "2096\n",
    "a\n",
    "2097\n",
    "2100\n",
    "q\n",
    "output:\n",
    "\n",
    "NO\n",
    "No\n",
    "No\n",
    "Yes\n",
    "Yes\n",
    "Yes\n",
    "請輸入年分\n",
    "No\n",
    "No\n"
   ]
  },
  {
   "cell_type": "code",
   "execution_count": null,
   "metadata": {},
   "outputs": [],
   "source": []
  }
 ],
 "metadata": {
  "kernelspec": {
   "display_name": "Python 3",
   "language": "python",
   "name": "python3"
  },
  "language_info": {
   "codemirror_mode": {
    "name": "ipython",
    "version": 3
   },
   "file_extension": ".py",
   "mimetype": "text/x-python",
   "name": "python",
   "nbconvert_exporter": "python",
   "pygments_lexer": "ipython3",
   "version": "3.6.1"
  }
 },
 "nbformat": 4,
 "nbformat_minor": 2
}
